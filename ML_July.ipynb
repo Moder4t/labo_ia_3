{
 "cells": [
  {
   "cell_type": "markdown",
   "id": "86db4170-2705-4875-86bb-fac1210d7322",
   "metadata": {},
   "source": [
    "### Apprentissage machine\n"
   ]
  },
  {
   "cell_type": "code",
   "execution_count": null,
   "id": "9525c133-555a-41df-aa45-59d7c4e165c1",
   "metadata": {},
   "outputs": [],
   "source": []
  },
  {
   "cell_type": "code",
   "execution_count": 1,
   "id": "9610c805-7b98-4f83-9c80-ce6ae8dabee4",
   "metadata": {},
   "outputs": [],
   "source": [
    "from joblib import load\n",
    "modele = load(\"modeles/kmeanJuly.joblib\")"
   ]
  },
  {
   "cell_type": "code",
   "execution_count": 2,
   "id": "0a09a771-2bc8-4075-b690-a5754eea4447",
   "metadata": {},
   "outputs": [
    {
     "name": "stdout",
     "output_type": "stream",
     "text": [
      "Numéro de cluster des cerises: [1]\n"
     ]
    },
    {
     "name": "stderr",
     "output_type": "stream",
     "text": [
      "c:\\virtual code\\excercies\\labo_ia_3\\env\\lib\\site-packages\\sklearn\\base.py:450: UserWarning: X does not have valid feature names, but KMeans was fitted with feature names\n",
      "  warnings.warn(\n"
     ]
    }
   ],
   "source": [
    "cerise = [[26.98, 8.75]]\n",
    "numCluster = modele.predict(cerise)\n",
    "print(\"Numéro de cluster des cerises: \" + str(numCluster))"
   ]
  },
  {
   "cell_type": "code",
   "execution_count": 3,
   "id": "828378ac-c094-474c-9d4f-7729892bcc7e",
   "metadata": {},
   "outputs": [
    {
     "name": "stdout",
     "output_type": "stream",
     "text": [
      "Numéro de cluster des abricots: [0]\n"
     ]
    },
    {
     "name": "stderr",
     "output_type": "stream",
     "text": [
      "c:\\virtual code\\excercies\\labo_ia_3\\env\\lib\\site-packages\\sklearn\\base.py:450: UserWarning: X does not have valid feature names, but KMeans was fitted with feature names\n",
      "  warnings.warn(\n"
     ]
    }
   ],
   "source": [
    "abricot = [[55.7, 102.16]]\n",
    "numCluster = modele.predict(abricot)\n",
    "print(\"Numéro de cluster des abricots: \" + str(numCluster))"
   ]
  },
  {
   "cell_type": "code",
   "execution_count": 4,
   "id": "b973f5ab-c193-460e-acd3-8d12615c8764",
   "metadata": {},
   "outputs": [
    {
     "name": "stdout",
     "output_type": "stream",
     "text": [
      "C'est une cerise ! \n"
     ]
    },
    {
     "name": "stderr",
     "output_type": "stream",
     "text": [
      "c:\\virtual code\\excercies\\labo_ia_3\\env\\lib\\site-packages\\sklearn\\base.py:450: UserWarning: X does not have valid feature names, but KMeans was fitted with feature names\n",
      "  warnings.warn(\n"
     ]
    }
   ],
   "source": [
    "cerise = [[26.98, 8.75]]\n",
    "numCluster = modele.predict(cerise)\n",
    "if int(numCluster) == 0:\n",
    "    print(\"C'est un abricot !\")\n",
    "else:\n",
    "    print(\"C'est une cerise ! \")"
   ]
  },
  {
   "cell_type": "code",
   "execution_count": 5,
   "id": "e751f219-9b2e-42c7-8bd4-f0590fa6f451",
   "metadata": {},
   "outputs": [
    {
     "name": "stdout",
     "output_type": "stream",
     "text": [
      "C'est un abricot !\n"
     ]
    },
    {
     "name": "stderr",
     "output_type": "stream",
     "text": [
      "c:\\virtual code\\excercies\\labo_ia_3\\env\\lib\\site-packages\\sklearn\\base.py:450: UserWarning: X does not have valid feature names, but KMeans was fitted with feature names\n",
      "  warnings.warn(\n"
     ]
    }
   ],
   "source": [
    "abricot = [[55.7, 102.16]]\n",
    "numCluster = modele.predict(abricot)\n",
    "if int(numCluster) == 0:\n",
    "    print(\"C'est un abricot !\")\n",
    "else:\n",
    "    print(\"C'est une cerise ! \")"
   ]
  },
  {
   "cell_type": "code",
   "execution_count": null,
   "id": "f6186815-58cc-435f-97a9-1928d099187e",
   "metadata": {},
   "outputs": [],
   "source": [
    "### Mélange gaussien"
   ]
  },
  {
   "cell_type": "code",
   "execution_count": 6,
   "id": "892f59b5-85aa-4721-b2ed-24f3f958aa09",
   "metadata": {},
   "outputs": [],
   "source": [
    "# ---- Modele de mélanges Gaussiens (GMM) -----------\n",
    "# ---- Lois normale ---------\n",
    "from sklearn import mixture\n",
    "from pandas import pandas as pnd\n",
    "import matplotlib.pyplot as plt"
   ]
  },
  {
   "cell_type": "code",
   "execution_count": 7,
   "id": "4e32f2bd-51e4-4058-a9b0-824897c88532",
   "metadata": {},
   "outputs": [],
   "source": [
    "#Chargement des données\n",
    "fruits = pnd.read_csv(\"datas/fruitsErr.csv\", names=['DIAMETRE', 'POIDS'], header=None)"
   ]
  },
  {
   "cell_type": "code",
   "execution_count": 8,
   "id": "c9992c29-10fd-4e92-a5f6-10213eea173a",
   "metadata": {},
   "outputs": [],
   "source": [
    "# Détermination des clusters (2 à trouver)\n",
    "gmm = mixture.GaussianMixture(n_components=2)"
   ]
  },
  {
   "cell_type": "code",
   "execution_count": 9,
   "id": "935a794b-d328-4d62-bb0b-7344bf912690",
   "metadata": {},
   "outputs": [
    {
     "data": {
      "text/plain": [
       "GaussianMixture(n_components=2)"
      ]
     },
     "execution_count": 9,
     "metadata": {},
     "output_type": "execute_result"
    }
   ],
   "source": [
    "# Apprentissage\n",
    "gmm.fit(fruits)"
   ]
  },
  {
   "cell_type": "code",
   "execution_count": 10,
   "id": "aaa0a042-29c9-4c71-9949-a3159d54e9b6",
   "metadata": {},
   "outputs": [],
   "source": [
    "# Classification\n",
    "clusters : \"numpy.ndarray\" = gmm.predict(fruits)\n"
   ]
  },
  {
   "cell_type": "code",
   "execution_count": 11,
   "id": "55698b30-01ca-4fae-9c5d-038fd7cead03",
   "metadata": {},
   "outputs": [
    {
     "data": {
      "text/plain": [
       "Text(0, 0.5, 'POIDS')"
      ]
     },
     "execution_count": 11,
     "metadata": {},
     "output_type": "execute_result"
    },
    {
     "data": {
      "image/png": "[encoded data removed]",
      "text/plain": [
       "<Figure size 432x288 with 1 Axes>"
      ]
     },
     "metadata": {
      "needs_background": "light"
     },
     "output_type": "display_data"
    }
   ],
   "source": [
    "# Affichage des clusters\n",
    "plt.scatter(fruits.DIAMETRE, fruits.POIDS, c=clusters, s=40, cmap='viridis');\n",
    "plt.xlabel(\"DIAMETRE\")\n",
    "plt.ylabel(\"POIDS\")"
   ]
  },
  {
   "cell_type": "code",
   "execution_count": null,
   "id": "426ada7b-1080-436e-b02c-56ee0628f576",
   "metadata": {},
   "outputs": [],
   "source": [
    "### Mean-Shift  "
   ]
  },
  {
   "cell_type": "code",
   "execution_count": null,
   "id": "154105b0-3014-4f42-9738-1476bae78d98",
   "metadata": {},
   "outputs": [],
   "source": [
    "### DBSCan "
   ]
  }
 ],
 "metadata": {
  "kernelspec": {
   "display_name": "Python 3 (ipykernel)",
   "language": "python",
   "name": "python3"
  },
  "language_info": {
   "codemirror_mode": {
    "name": "ipython",
    "version": 3
   },
   "file_extension": ".py",
   "mimetype": "text/x-python",
   "name": "python",
   "nbconvert_exporter": "python",
   "pygments_lexer": "ipython3",
   "version": "3.9.6"
  }
 },
 "nbformat": 4,
 "nbformat_minor": 5
}
