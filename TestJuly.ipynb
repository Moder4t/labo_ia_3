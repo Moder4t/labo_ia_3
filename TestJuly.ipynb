{
 "cells": [
  {
   "cell_type": "markdown",
   "id": "64c2510d-e443-46d7-b459-4add4d645998",
   "metadata": {},
   "source": [
    "### Kmean ou K-Moyenne\n",
    "Bon algorithme pour classifier dans un nombre de groupes connus et a"
   ]
  }
 ],
 "metadata": {
  "kernelspec": {
   "display_name": "Python 3 (ipykernel)",
   "language": "python",
   "name": "python3"
  },
  "language_info": {
   "codemirror_mode": {
    "name": "ipython",
    "version": 3
   },
   "file_extension": ".py",
   "mimetype": "text/x-python",
   "name": "python",
   "nbconvert_exporter": "python",
   "pygments_lexer": "ipython3",
   "version": "3.9.6"
  }
 },
 "nbformat": 4,
 "nbformat_minor": 5
}
