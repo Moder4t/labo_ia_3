{
 "cells": [
  {
   "cell_type": "markdown",
   "id": "64c2510d-e443-46d7-b459-4add4d645998",
   "metadata": {},
   "source": [
    "### Kmean ou K-Moyenne\n",
    "Bon algorithme pour classifier dans un nombre de groupes connus et avec un nombre d'observations petits. < 10 000."
   ]
  },
  {
   "cell_type": "code",
   "execution_count": 1,
   "id": "86a410c7-70fb-41b0-a8b6-e0b4f69de9bb",
   "metadata": {},
   "outputs": [],
   "source": [
    "from pandas import pandas as pnd\n",
    "import matplotlib.pyplot as plt"
   ]
  },
  {
   "cell_type": "code",
   "execution_count": 3,
   "id": "4e979d94-e2a7-4a5b-88eb-9c6e76a11ee5",
   "metadata": {
    "tags": []
   },
   "outputs": [
    {
     "data": {
      "text/html": [
       "<div>\n",
       "<style scoped>\n",
       "    .dataframe tbody tr th:only-of-type {\n",
       "        vertical-align: middle;\n",
       "    }\n",
       "\n",
       "    .dataframe tbody tr th {\n",
       "        vertical-align: top;\n",
       "    }\n",
       "\n",
       "    .dataframe thead th {\n",
       "        text-align: right;\n",
       "    }\n",
       "</style>\n",
       "<table border=\"1\" class=\"dataframe\">\n",
       "  <thead>\n",
       "    <tr style=\"text-align: right;\">\n",
       "      <th></th>\n",
       "      <th>DIAMETRE</th>\n",
       "      <th>POIDS</th>\n",
       "    </tr>\n",
       "  </thead>\n",
       "  <tbody>\n",
       "    <tr>\n",
       "      <th>0</th>\n",
       "      <td>53.84</td>\n",
       "      <td>76.86</td>\n",
       "    </tr>\n",
       "    <tr>\n",
       "      <th>1</th>\n",
       "      <td>47.36</td>\n",
       "      <td>57.80</td>\n",
       "    </tr>\n",
       "    <tr>\n",
       "      <th>2</th>\n",
       "      <td>52.47</td>\n",
       "      <td>75.81</td>\n",
       "    </tr>\n",
       "    <tr>\n",
       "      <th>3</th>\n",
       "      <td>17.66</td>\n",
       "      <td>3.08</td>\n",
       "    </tr>\n",
       "    <tr>\n",
       "      <th>4</th>\n",
       "      <td>17.16</td>\n",
       "      <td>4.94</td>\n",
       "    </tr>\n",
       "    <tr>\n",
       "      <th>...</th>\n",
       "      <td>...</td>\n",
       "      <td>...</td>\n",
       "    </tr>\n",
       "    <tr>\n",
       "      <th>395</th>\n",
       "      <td>28.24</td>\n",
       "      <td>10.91</td>\n",
       "    </tr>\n",
       "    <tr>\n",
       "      <th>396</th>\n",
       "      <td>47.94</td>\n",
       "      <td>52.96</td>\n",
       "    </tr>\n",
       "    <tr>\n",
       "      <th>397</th>\n",
       "      <td>26.22</td>\n",
       "      <td>9.90</td>\n",
       "    </tr>\n",
       "    <tr>\n",
       "      <th>398</th>\n",
       "      <td>26.58</td>\n",
       "      <td>9.81</td>\n",
       "    </tr>\n",
       "    <tr>\n",
       "      <th>399</th>\n",
       "      <td>26.56</td>\n",
       "      <td>9.42</td>\n",
       "    </tr>\n",
       "  </tbody>\n",
       "</table>\n",
       "<p>400 rows × 2 columns</p>\n",
       "</div>"
      ],
      "text/plain": [
       "     DIAMETRE  POIDS\n",
       "0       53.84  76.86\n",
       "1       47.36  57.80\n",
       "2       52.47  75.81\n",
       "3       17.66   3.08\n",
       "4       17.16   4.94\n",
       "..        ...    ...\n",
       "395     28.24  10.91\n",
       "396     47.94  52.96\n",
       "397     26.22   9.90\n",
       "398     26.58   9.81\n",
       "399     26.56   9.42\n",
       "\n",
       "[400 rows x 2 columns]"
      ]
     },
     "execution_count": 3,
     "metadata": {},
     "output_type": "execute_result"
    }
   ],
   "source": [
    "#Chargement des données\n",
    "fruits = pnd.read_csv(\"datas/fruitsJuly.csv\", names=['DIAMETRE', 'POIDS'], header=None)\n",
    "fruits"
   ]
  },
  {
   "cell_type": "code",
   "execution_count": 4,
   "id": "1ab7508e-5198-4f70-8703-8c9d10dfef28",
   "metadata": {},
   "outputs": [
    {
     "data": {
      "text/plain": [
       "<AxesSubplot:xlabel='DIAMETRE', ylabel='POIDS'>"
      ]
     },
     "execution_count": 4,
     "metadata": {},
     "output_type": "execute_result"
    },
    {
     "data": {
      "image/png": "[encoded data removed]",
      "text/plain": [
       "<Figure size 432x288 with 1 Axes>"
      ]
     },
     "metadata": {
      "needs_background": "light"
     },
     "output_type": "display_data"
    }
   ],
   "source": [
    "# Visualisation graphique des données\n",
    "fruits.plot.scatter(x=\"DIAMETRE\", y=\"POIDS\")"
   ]
  },
  {
   "cell_type": "code",
   "execution_count": 6,
   "id": "6a7b0ce2-bdc2-44b0-80a9-cc6a5d1ca049",
   "metadata": {},
   "outputs": [
    {
     "data": {
      "text/plain": [
       "KMeans(n_clusters=2)"
      ]
     },
     "execution_count": 6,
     "metadata": {},
     "output_type": "execute_result"
    }
   ],
   "source": [
    "# Apprentissage avec l'algorithme K-Mean\n",
    "from sklearn.cluster import KMeans\n",
    "modele = KMeans(n_clusters=2)\n",
    "modele.fit(fruits)"
   ]
  },
  {
   "cell_type": "code",
   "execution_count": 7,
   "id": "8ba185bc-230e-4c41-86f5-c41d14ee7fd9",
   "metadata": {},
   "outputs": [],
   "source": [
    "# Predictions\n",
    "predictions_kmeans = modele.predict(fruits)"
   ]
  },
  {
   "cell_type": "code",
   "execution_count": 8,
   "id": "c6c35cba-9bc1-467c-808d-84b976f36fdf",
   "metadata": {},
   "outputs": [
    {
     "data": {
      "text/plain": [
       "Text(0, 0.5, 'POIDS')"
      ]
     },
     "execution_count": 8,
     "metadata": {},
     "output_type": "execute_result"
    },
    {
     "data": {
      "image/png": "[encoded data removed]",
      "text/plain": [
       "<Figure size 432x288 with 1 Axes>"
      ]
     },
     "metadata": {
      "needs_background": "light"
     },
     "output_type": "display_data"
    }
   ],
   "source": [
    "#Affichage de la clusterisation\n",
    "plt.scatter(fruits.DIAMETRE, fruits.POIDS, c=predictions_kmeans, s=50, cmap='viridis')\n",
    "plt.xlabel(\"DIAMETRE\")\n",
    "plt.ylabel(\"POIDS\")"
   ]
  },
  {
   "cell_type": "code",
   "execution_count": 13,
   "id": "2f518e56-434a-405e-8c3a-74950553da85",
   "metadata": {},
   "outputs": [
    {
     "data": {
      "text/plain": [
       "<matplotlib.collections.PathCollection at 0x19ca5d3a8e0>"
      ]
     },
     "execution_count": 13,
     "metadata": {},
     "output_type": "execute_result"
    },
    {
     "data": {
      "image/png": "[encoded data removed]",
      "text/plain": [
       "<Figure size 432x288 with 1 Axes>"
      ]
     },
     "metadata": {
      "needs_background": "light"
     },
     "output_type": "display_data"
    }
   ],
   "source": [
    "# Affichage des centroïdes\n",
    "centers = modele.cluster_centers_\n",
    "plt.scatter(centers[:, 0], centers[:, 1], c='black', s=200, alpha=0.5)\n",
    "plt.scatter(fruits.DIAMETRE, fruits.POIDS, c=predictions_kmeans, s=50, cmap='viridis')"
   ]
  },
  {
   "cell_type": "code",
   "execution_count": 14,
   "id": "eceb5da7-9b40-4220-b831-f97cedc333dc",
   "metadata": {},
   "outputs": [
    {
     "data": {
      "text/plain": [
       "['modeles/kmeanJuly.joblib']"
      ]
     },
     "execution_count": 14,
     "metadata": {},
     "output_type": "execute_result"
    }
   ],
   "source": [
    "#Sauvegarde du modèle ( A décommenter si besoin)\n",
    "\n",
    "#from joblib import dump\n",
    "#dump(modele,'modeles/kmeanJuly.joblib')"
   ]
  },
  {
   "cell_type": "code",
   "execution_count": null,
   "id": "87c6f424-d807-480b-a1bc-e68442d688d1",
   "metadata": {},
   "outputs": [],
   "source": []
  }
 ],
 "metadata": {
  "kernelspec": {
   "display_name": "Python 3 (ipykernel)",
   "language": "python",
   "name": "python3"
  },
  "language_info": {
   "codemirror_mode": {
    "name": "ipython",
    "version": 3
   },
   "file_extension": ".py",
   "mimetype": "text/x-python",
   "name": "python",
   "nbconvert_exporter": "python",
   "pygments_lexer": "ipython3",
   "version": "3.9.6"
  }
 },
 "nbformat": 4,
 "nbformat_minor": 5
}
